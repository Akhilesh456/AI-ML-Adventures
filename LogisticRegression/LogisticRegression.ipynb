{
 "cells": [
  {
   "cell_type": "code",
   "execution_count": 2,
   "metadata": {},
   "outputs": [],
   "source": [
    "import numpy as np\n",
    "import pandas as pd\n",
    "import matplotlib.pyplot as plt\n",
    "from sklearn.metrics import r2_score"
   ]
  },
  {
   "attachments": {},
   "cell_type": "markdown",
   "metadata": {},
   "source": [
    "Reading data, feature scaling"
   ]
  },
  {
   "cell_type": "code",
   "execution_count": 3,
   "metadata": {},
   "outputs": [],
   "source": [
    "train_data = pd.read_csv(\"data.csv\")\n",
    "features = [\"radius_mean\", \"texture_mean\", \"perimeter_mean\", \"area_mean\"]\n",
    "X_train = train_data[features].to_numpy()\n",
    "X_train = X_train.T\n",
    "rows = len(train_data.axes[0])\n",
    "cols = 4\n",
    "n = cols\n",
    "m = rows\n",
    "\n",
    "for i in range(cols):\n",
    "    cmin = X_train[i].min()\n",
    "    cmax = X_train[i].max()\n",
    "    cmean = X_train[i].sum()/m\n",
    "    \n",
    "    X_train[i] = (X_train[i] - cmean)/(cmax-cmin)\n",
    "X_train = X_train.T\n",
    "\n",
    "Y_train = train_data[\"diagnosis\"].replace(['M', 'B'], [1, 0]).to_numpy()"
   ]
  },
  {
   "attachments": {},
   "cell_type": "markdown",
   "metadata": {},
   "source": [
    "All the functions."
   ]
  },
  {
   "cell_type": "code",
   "execution_count": 4,
   "metadata": {},
   "outputs": [],
   "source": [
    "def f_wb(Xi, w, b):\n",
    "    \"\"\"Returns the sigmoid function value\n",
    "\n",
    "    Args:\n",
    "        X (np.array): Input data\n",
    "        w (np.array): w vector\n",
    "        b (Number): b parameter\n",
    "    \"\"\"\n",
    "    value = 1/(1+np.exp(-(np.dot(w, Xi)+b)))\n",
    "    return value\n",
    "\n",
    "def cost_func(X, Y, w, b):\n",
    "    \"\"\"Returns cost function for particular w and b\n",
    "\n",
    "    Args:\n",
    "        X (np.array): Inputs\n",
    "        Y (np.array): Actual outputs\n",
    "        w (np.array): w vector\n",
    "        b (Number): b parameter\n",
    "    \"\"\"\n",
    "    cost = 0\n",
    "    for i in range(m):\n",
    "        loss = -Y[i]*np.log(f_wb(X[i], w, b))-(1-Y[i])*np.log(1-f_wb(X[i], w, b))\n",
    "        cost += loss\n",
    "    cost = cost/m\n",
    "    \n",
    "    return cost\n",
    "\n",
    "def compute_gradient(X, Y, w, b):\n",
    "    \"\"\"Computes the gradient of cost function at w and b\n",
    "\n",
    "    Args:\n",
    "        x (np.array): Training inputs\n",
    "        y (np.array): Training oupts (Correct answers)\n",
    "        w (np.array): w vector\n",
    "        b (Number): b parameter\n",
    "\n",
    "    Returns:\n",
    "        np.array, Number: dj_dw and dj_db\n",
    "    \"\"\"   \n",
    "    dj_dw = np.zeros(n)\n",
    "    dj_db = 0\n",
    "    for j in range(n):\n",
    "        t = 0\n",
    "        for i in range(m):\n",
    "            f = f_wb(X[i], w, b)\n",
    "            er = f - Y[i]\n",
    "            t += er*X[i][j]\n",
    "            if(j == 0):\n",
    "                dj_db += er\n",
    "        dj_dw[j] = t/m\n",
    "    dj_db = dj_db/m\n",
    "          \n",
    "    return dj_dw, dj_db\n",
    "\n",
    "def GD_algorithm(X, Y, alpha):\n",
    "    \"\"\"Calculates the best fit for the model f_w,b(X) = 1/(1+np.exp(-(w*x+b))) for the given data and learning rate\n",
    "\n",
    "    Args:\n",
    "        x (np.array): Inputs of training data\n",
    "        y (np.array): Correct key of output data\n",
    "        alpha (Number): Learning Rate\n",
    "\n",
    "    Returns:\n",
    "        w, b, J_history: Parameters and Cost function history for Learning Curve\n",
    "    \"\"\"   \n",
    "    J_history = []\n",
    "    w = np.zeros(n)\n",
    "    b = 0.0\n",
    "    prev_J = cost_func(X, Y, w, b)\n",
    "    iterations = 0\n",
    "    p_diff = 0\n",
    "    \n",
    "    while(True):\n",
    "        iterations += 1\n",
    "        dj_dw, dj_db = compute_gradient(X, Y, w, b)\n",
    "        w = w - alpha*dj_dw\n",
    "        b = b - alpha*dj_db\n",
    "        curr_J = cost_func(X, Y, w, b)\n",
    "        \n",
    "        J_history.append(curr_J)\n",
    "        # print(f\"J: {curr_J} alpha: {alpha}\")\n",
    "        # My idea of variable alpha\n",
    "        if(curr_J > prev_J):\n",
    "            alpha = alpha**0.9\n",
    "            # break\n",
    "        elif(p_diff < 10*(prev_J-curr_J)):\n",
    "            alpha = alpha**1.001\n",
    "        elif(prev_J-curr_J < 0.000001):\n",
    "            return w, b, J_history, iterations\n",
    "        \n",
    "        p_diff = prev_J-curr_J\n",
    "        prev_J = curr_J\n",
    "        \n",
    "def predict(X, w, b):\n",
    "    \"\"\"Predicts the data based on the input parameters\n",
    "\n",
    "    Args:\n",
    "        x (np.array): Inputs\n",
    "        w (np.array): w vector\n",
    "        b (Number): b parameter\n",
    "\n",
    "    Returns:\n",
    "        np.array: Predictions\n",
    "    \"\"\"\n",
    "    Y_pred = []   \n",
    "    m = len(X)\n",
    "    \n",
    "    for i in range(m):\n",
    "        f_val = f_wb(X[i], w, b)\n",
    "        if(f_val >= 0.5):\n",
    "            Y_pred.append(1)\n",
    "        else:\n",
    "            Y_pred.append(0)\n",
    "        \n",
    "    return Y_pred\n",
    "\n",
    "def accuracy(Y_act, Y_pred):\n",
    "    \n",
    "    m = len(Y_act)\n",
    "    cor = 0\n",
    "    \n",
    "    for i in range(m):\n",
    "        if(Y_act[i] == Y_pred[i]):\n",
    "            cor += 1\n",
    "    ac = cor/m\n",
    "    \n",
    "    return ac"
   ]
  },
  {
   "attachments": {},
   "cell_type": "markdown",
   "metadata": {},
   "source": [
    "Training the model."
   ]
  },
  {
   "cell_type": "code",
   "execution_count": 5,
   "metadata": {},
   "outputs": [
    {
     "data": {
      "image/png": "[encoded data removed]",
      "text/plain": [
       "<Figure size 640x480 with 1 Axes>"
      ]
     },
     "metadata": {},
     "output_type": "display_data"
    }
   ],
   "source": [
    "alpha = 10\n",
    "w, b, J_history, it = GD_algorithm(X_train, Y_train, alpha)\n",
    "\n",
    "# Plotting Learning Curve\n",
    "indices = range(it)\n",
    "plt.plot(indices, J_history, c='b')\n",
    "plt.xlabel(\"# Iterations\")\n",
    "plt.ylabel(\"Cost Function\")\n",
    "plt.title(\"Learning Curve\")\n",
    "plt.show()"
   ]
  },
  {
   "attachments": {},
   "cell_type": "markdown",
   "metadata": {},
   "source": [
    "Testing the accuracy."
   ]
  },
  {
   "cell_type": "code",
   "execution_count": 6,
   "metadata": {},
   "outputs": [
    {
     "name": "stdout",
     "output_type": "stream",
     "text": [
      "Accuracy of this model is 0.9015817223198594\n"
     ]
    }
   ],
   "source": [
    "Y_pred = predict(X_train, w, b)\n",
    "\n",
    "print(f\"Accuracy of this model is {accuracy(Y_train, Y_pred)}\")"
   ]
  }
 ],
 "metadata": {
  "kernelspec": {
   "display_name": "Python 3",
   "language": "python",
   "name": "python3"
  },
  "language_info": {
   "codemirror_mode": {
    "name": "ipython",
    "version": 3
   },
   "file_extension": ".py",
   "mimetype": "text/x-python",
   "name": "python",
   "nbconvert_exporter": "python",
   "pygments_lexer": "ipython3",
   "version": "3.11.1"
  },
  "orig_nbformat": 4,
  "vscode": {
   "interpreter": {
    "hash": "70cee1ab31432a3c6d7a7399fb312c5ef240bc8620d15cade7df88066d7533ca"
   }
  }
 },
 "nbformat": 4,
 "nbformat_minor": 2
}
